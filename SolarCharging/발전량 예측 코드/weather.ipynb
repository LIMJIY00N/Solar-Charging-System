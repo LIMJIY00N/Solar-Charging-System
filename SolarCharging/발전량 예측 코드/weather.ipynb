{
 "cells": [
  {
   "cell_type": "code",
   "execution_count": null,
   "metadata": {},
   "outputs": [],
   "source": [
    "from urllib.request import urlopen\n",
    "from bs4 import BeautifulSoup\n",
    "import requests\n",
    "from datetime import datetime\n",
    "from datetime import timedelta\n",
    "# !pip install schedule\n",
    "import schedule\n",
    "import json\n",
    "import time\n",
    "\n",
    "def chk_null(x):\n",
    "      if x == \"\" or x == \"-\":\n",
    "        x = 0.0\n",
    "      else:\n",
    "        x = float(x)\n",
    "      return x\n",
    "\n",
    "def NowWeatherUpdate():\n",
    "    url = \"https://www.weatheri.co.kr/bygone/bygone06.php\"\n",
    "    html = requests.get(url)\n",
    "    soup = BeautifulSoup(html.content, \"html.parser\") \n",
    "    cnt = 0\n",
    "    tr_list = soup.find_all('tr',{'valign':'middle','align':'center'})\n",
    "    font = soup.find_all('font')\n",
    "    [['Day','T','Wind','H',\"Iljo\",\"Ilsa\",\"Cloud\"]]\n",
    "    yesterday = datetime.today()-timedelta(1)\n",
    "    date_to_compare = datetime.strptime(\"19000101\", \"%Y%m%d\")\n",
    "    date_diff = datetime.now() - date_to_compare\n",
    "    Day = date_diff.days + 1\n",
    "    T = chk_null(font[681].text.replace(\"\\t\",\"\").replace(\"\\n\",\"\"))\n",
    "    Rain = chk_null(font[689].text.replace(\"\\t\",\"\").replace(\"\\n\",\"\"))\n",
    "    Wind = chk_null(font[692].text.replace(\"\\t\",\"\").replace(\"\\n\",\"\"))\n",
    "    H = chk_null(font[685].text.replace(\"\\t\",\"\").replace(\"\\n\",\"\"))\n",
    "    Iljo =chk_null(font[687].text.replace(\"\\t\",\"\").replace(\"\\n\",\"\"))\n",
    "    Ilsa = chk_null(font[688].text.replace(\"\\t\",\"\").replace(\"\\n\",\"\"))\n",
    "    Cloud = chk_null(font[684].text.replace(\"\\t\",\"\").replace(\"\\n\",\"\"))\n",
    "    data = {'Dayday': Day, 'T': T, 'Rain': Rain, 'Wind': Wind, 'H': H, 'Iljo': Iljo, 'Ilsa': Ilsa, 'Cloud': Cloud}\n",
    "    url = \"http://solarcharging.dothome.co.kr/NowWeatherPostApi.php?apicall=getinfo\"\n",
    "    res = requests.post(url, data=data)\n",
    "    print(\"data\")\n",
    "    print(data)\n",
    "    return data\n",
    "\n",
    "# data = {'Dayday': 0, 'T': 0, 'Rain': 0, 'Wind': 0, 'H': 0, 'Iljo': 0, 'Ilsa': 0, 'Cloud': 0}\n",
    "# res = requests.post(\"http://solarcharging.dothome.co.kr/NowWeatherPostApi.php?apicall=getinfo\", data=data)\n",
    "\n",
    "# schedule.every().day.at(\"03:35\").do(NowWeatherUpdate)\n",
    "schedule.every(24).hours.do(NowWeatherUpdate)\n",
    "\n",
    "\n",
    "while True:\n",
    "    schedule.run_pending()\n",
    "    time.sleep(1)"
   ]
  },
  {
   "cell_type": "code",
   "execution_count": null,
   "metadata": {},
   "outputs": [],
   "source": []
  },
  {
   "cell_type": "code",
   "execution_count": null,
   "metadata": {},
   "outputs": [],
   "source": []
  }
 ],
 "metadata": {
  "kernelspec": {
   "display_name": "Python 3",
   "language": "python",
   "name": "python3"
  },
  "language_info": {
   "codemirror_mode": {
    "name": "ipython",
    "version": 3
   },
   "file_extension": ".py",
   "mimetype": "text/x-python",
   "name": "python",
   "nbconvert_exporter": "python",
   "pygments_lexer": "ipython3",
   "version": "3.9.5"
  }
 },
 "nbformat": 4,
 "nbformat_minor": 2
}
